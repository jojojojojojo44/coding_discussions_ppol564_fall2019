{
 "cells": [
  {
   "cell_type": "markdown",
   "metadata": {},
   "source": [
    "# Coding Discussion 01 - 09/11/2019"
   ]
  },
  {
   "cell_type": "markdown",
   "metadata": {},
   "source": [
    "Importing the Scripts"
   ]
  },
  {
   "cell_type": "code",
   "execution_count": 1,
   "metadata": {},
   "outputs": [
    {
     "data": {
      "text/plain": [
       "953"
      ]
     },
     "execution_count": 1,
     "metadata": {},
     "output_type": "execute_result"
    }
   ],
   "source": [
    "# %load script01.py\n",
    "import math\n",
    "import random\n",
    "\n",
    "def search_func_1(list_to_search,find_this_value):\n",
    "    '''\n",
    "    Search Function 1\n",
    "\n",
    "    Aim: Scan through a list and see if the requested value is located within it.\n",
    "\n",
    "    Input:\n",
    "        - list_to_search: a list of values to search.\n",
    "        - find_this_value: an integer value to located within the list.\n",
    "\n",
    "    Return:\n",
    "        The index location of the requested value in the list or -1 if\n",
    "        the value is not located in the list\n",
    "    '''\n",
    "    def search(a,low,high,x):\n",
    "        if high < low:\n",
    "            return -1\n",
    "        mid = math.floor(low + ((high-low)/2))\n",
    "        if x == a[mid]:\n",
    "            return mid\n",
    "        elif x < a[mid]:\n",
    "            return search(a,low,mid - 1,x)\n",
    "        else:\n",
    "            return search(a,mid + 1, high, x)\n",
    "    return search(list_to_search,0,len(list_to_search)-1,find_this_value)\n",
    "\n",
    "\n",
    "# Code to run\n",
    "random.seed(1234)\n",
    "my_list = [random.randint(1,10000) for i in range(1000)]\n",
    "my_list.sort()\n",
    "find = 9626\n",
    "search_func_1(my_list,find)\n"
   ]
  },
  {
   "cell_type": "code",
   "execution_count": 2,
   "metadata": {},
   "outputs": [
    {
     "name": "stdout",
     "output_type": "stream",
     "text": [
      "CPU times: user 4 µs, sys: 1 µs, total: 5 µs\n",
      "Wall time: 7.87 µs\n"
     ]
    }
   ],
   "source": [
    "%time"
   ]
  },
  {
   "cell_type": "code",
   "execution_count": 3,
   "metadata": {},
   "outputs": [
    {
     "data": {
      "text/plain": [
       "953"
      ]
     },
     "execution_count": 3,
     "metadata": {},
     "output_type": "execute_result"
    }
   ],
   "source": [
    "# %load script01.py\n",
    "import math\n",
    "import random\n",
    "\n",
    "def search_func_1(list_to_search,find_this_value):\n",
    "    '''\n",
    "    Search Function 1\n",
    "\n",
    "    Aim: Scan through a list and see if the requested value is located within it.\n",
    "\n",
    "    Input:\n",
    "        - list_to_search: a list of values to search.\n",
    "        - find_this_value: an integer value to located within the list.\n",
    "\n",
    "    Return:\n",
    "        The index location of the requested value in the list or -1 if\n",
    "        the value is not located in the list\n",
    "    '''\n",
    "    def search(a,low,high,x):\n",
    "        if high < low:\n",
    "            return -1\n",
    "        mid = math.floor(low + ((high-low)/2))\n",
    "        if x == a[mid]:\n",
    "            return mid\n",
    "        elif x < a[mid]:\n",
    "            return search(a,low,mid - 1,x)\n",
    "        else:\n",
    "            return search(a,mid + 1, high, x)\n",
    "    return search(list_to_search,0,len(list_to_search)-1,find_this_value)\n",
    "\n",
    "\n",
    "# Code to run\n",
    "random.seed(1234)\n",
    "my_list = [random.randint(1,10000) for i in range(1000)]\n",
    "my_list.sort()\n",
    "find = 9626\n",
    "search_func_1(my_list,find)\n"
   ]
  },
  {
   "cell_type": "markdown",
   "metadata": {},
   "source": [
    "Running the code to check running time of each function."
   ]
  },
  {
   "cell_type": "code",
   "execution_count": 4,
   "metadata": {},
   "outputs": [
    {
     "name": "stdout",
     "output_type": "stream",
     "text": [
      "CPU times: user 6 µs, sys: 2 µs, total: 8 µs\n",
      "Wall time: 42 µs\n"
     ]
    }
   ],
   "source": [
    "%time"
   ]
  },
  {
   "cell_type": "markdown",
   "metadata": {},
   "source": [
    "Comparing the two times of the functions from script01 and script02, the function from script01 seems to be running faster than the function from script02."
   ]
  }
 ],
 "metadata": {
  "kernelspec": {
   "display_name": "Python 3",
   "language": "python",
   "name": "python3"
  },
  "language_info": {
   "codemirror_mode": {
    "name": "ipython",
    "version": 3
   },
   "file_extension": ".py",
   "mimetype": "text/x-python",
   "name": "python",
   "nbconvert_exporter": "python",
   "pygments_lexer": "ipython3",
   "version": "3.7.1"
  }
 },
 "nbformat": 4,
 "nbformat_minor": 2
}
