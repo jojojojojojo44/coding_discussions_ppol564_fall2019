{
 "cells": [
  {
   "cell_type": "code",
   "execution_count": 6,
   "metadata": {},
   "outputs": [
    {
     "name": "stdout",
     "output_type": "stream",
     "text": [
      "C:\\Users\\WB537822\\Desktop\\coding_discussions_ppol564_fall2019\\01_coding_discussion\\Task02\n",
      " Volume in drive C is OSDisk\n",
      " Volume Serial Number is 8656-5DB2\n",
      "\n",
      " Directory of C:\\Users\\WB537822\\Desktop\\coding_discussions_ppol564_fall2019\\01_coding_discussion\\Task02\n",
      "\n",
      "09/12/2019  10:50 AM    <DIR>          .\n",
      "09/12/2019  10:50 AM    <DIR>          ..\n",
      "09/12/2019  10:50 AM             4,419 bryant_valarie_vtb7.ipynb\n",
      "09/12/2019  10:50 AM             5,146 hearn_adam_ach154.ipynb\n",
      "09/12/2019  10:50 AM             2,013 Joy_Marissa_mj772.ipynb\n",
      "09/12/2019  10:50 AM             1,019 script01.py\n",
      "09/12/2019  10:50 AM               749 script02.py\n",
      "               5 File(s)         13,346 bytes\n",
      "               2 Dir(s)  154,541,654,016 bytes free\n"
     ]
    }
   ],
   "source": [
    "# Changing directory, confirming directory, and looking at files in folder\n",
    "%cd C:\\Users\\WB537822\\Desktop\\coding_discussions_ppol564_fall2019\\01_coding_discussion\\Task02\n",
    "%pwd\n",
    "%ls"
   ]
  },
  {
   "cell_type": "code",
   "execution_count": 10,
   "metadata": {},
   "outputs": [
    {
     "data": {
      "text/plain": [
       "953"
      ]
     },
     "execution_count": 10,
     "metadata": {},
     "output_type": "execute_result"
    }
   ],
   "source": [
    "# %load script01.py\n",
    "import math\n",
    "import random\n",
    "\n",
    "def search_func_1(list_to_search,find_this_value):\n",
    "    '''\n",
    "    Search Function 1\n",
    "\n",
    "    Aim: Scan through a list and see if the requested value is located within it.\n",
    "\n",
    "    Input:\n",
    "        - list_to_search: a list of values to search.\n",
    "        - find_this_value: an integer value to located within the list.\n",
    "\n",
    "    Return:\n",
    "        The index location of the requested value in the list or -1 if\n",
    "        the value is not located in the list\n",
    "    '''\n",
    "    def search(a,low,high,x):\n",
    "        if high < low:\n",
    "            return -1\n",
    "        mid = math.floor(low + ((high-low)/2))\n",
    "        if x == a[mid]:\n",
    "            return mid\n",
    "        elif x < a[mid]:\n",
    "            return search(a,low,mid - 1,x)\n",
    "        else:\n",
    "            return search(a,mid + 1, high, x)\n",
    "    return search(list_to_search,0,len(list_to_search)-1,find_this_value)\n",
    "\n",
    "\n",
    "# Code to run\n",
    "random.seed(1234)\n",
    "my_list = [random.randint(1,10000) for i in range(1000)]\n",
    "my_list.sort()\n",
    "find = 9626\n",
    "search_func_1(my_list,find)\n"
   ]
  },
  {
   "cell_type": "code",
   "execution_count": 11,
   "metadata": {},
   "outputs": [
    {
     "data": {
      "text/plain": [
       "953"
      ]
     },
     "execution_count": 11,
     "metadata": {},
     "output_type": "execute_result"
    }
   ],
   "source": [
    "# %load script02.py\n",
    "import random\n",
    "def search_func_2(list_to_search,find_this_value):\n",
    "    '''\n",
    "    Search Function 2\n",
    "\n",
    "    Aim: Scan through a list and see if the requested value is located within it.\n",
    "\n",
    "    Input:\n",
    "        - list_to_search: a list of values to search.\n",
    "        - find_this_value: an integer value to located within the list.\n",
    "\n",
    "    Return:\n",
    "        The index location of the requested value in the list or -1 if\n",
    "        the value is not located in the list\n",
    "    '''\n",
    "    for i in range(len(list_to_search)):\n",
    "        if list_to_search[i] == find_this_value:\n",
    "            return i\n",
    "    return -1\n",
    "\n",
    "# Code to Run\n",
    "random.seed(1234)\n",
    "my_list = [random.randint(1,10000) for i in range(1000)]\n",
    "my_list.sort()\n",
    "find = 9626\n",
    "search_func_2(my_list,find)\n"
   ]
  },
  {
   "cell_type": "code",
   "execution_count": 14,
   "metadata": {},
   "outputs": [
    {
     "name": "stdout",
     "output_type": "stream",
     "text": [
      "25.8 ns ± 1.61 ns per loop (mean ± std. dev. of 7 runs, 10000000 loops each)\n"
     ]
    }
   ],
   "source": [
    "%timeit search_func_1"
   ]
  },
  {
   "cell_type": "code",
   "execution_count": 15,
   "metadata": {},
   "outputs": [
    {
     "name": "stdout",
     "output_type": "stream",
     "text": [
      "31.1 ns ± 2.59 ns per loop (mean ± std. dev. of 7 runs, 10000000 loops each)\n"
     ]
    }
   ],
   "source": [
    "%timeit search_func_2"
   ]
  },
  {
   "cell_type": "markdown",
   "metadata": {},
   "source": [
    "# Allen's Markdown Below\n",
    "\n",
    "According to the %timeit magic above, search_func_1 runs faster by _almost_ 6 nanoseconds."
   ]
  },
  {
   "cell_type": "code",
   "execution_count": null,
   "metadata": {},
   "outputs": [],
   "source": []
  }
 ],
 "metadata": {
  "kernelspec": {
   "display_name": "Python 3",
   "language": "python",
   "name": "python3"
  },
  "language_info": {
   "codemirror_mode": {
    "name": "ipython",
    "version": 3
   },
   "file_extension": ".py",
   "mimetype": "text/x-python",
   "name": "python",
   "nbconvert_exporter": "python",
   "pygments_lexer": "ipython3",
   "version": "3.7.0"
  }
 },
 "nbformat": 4,
 "nbformat_minor": 2
}
