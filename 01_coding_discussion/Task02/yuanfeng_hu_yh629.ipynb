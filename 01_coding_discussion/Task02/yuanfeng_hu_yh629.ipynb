{
 "cells": [
  {
   "cell_type": "markdown",
   "metadata": {},
   "source": [
    "# load script 01"
   ]
  },
  {
   "cell_type": "code",
   "execution_count": 1,
   "metadata": {},
   "outputs": [
    {
     "data": {
      "text/plain": [
       "953"
      ]
     },
     "execution_count": 1,
     "metadata": {},
     "output_type": "execute_result"
    }
   ],
   "source": [
    "import math\n",
    "import random\n",
    "\n",
    "def search_func_1(list_to_search,find_this_value):\n",
    "    '''\n",
    "    Search Function 1\n",
    "\n",
    "    Aim: Scan through a list and see if the requested value is located within it.\n",
    "\n",
    "    Input:\n",
    "        - list_to_search: a list of values to search.\n",
    "        - find_this_value: an integer value to located within the list.\n",
    "\n",
    "    Return:\n",
    "        The index location of the requested value in the list or -1 if\n",
    "        the value is not located in the list\n",
    "    '''\n",
    "    def search(a,low,high,x):\n",
    "        if high < low:\n",
    "            return -1\n",
    "        mid = math.floor(low + ((high-low)/2))\n",
    "        if x == a[mid]:\n",
    "            return mid\n",
    "        elif x < a[mid]:\n",
    "            return search(a,low,mid - 1,x)\n",
    "        else:\n",
    "            return search(a,mid + 1, high, x)\n",
    "    return search(list_to_search,0,len(list_to_search)-1,find_this_value)\n",
    "\n",
    "\n",
    "# Code to run\n",
    "random.seed(1234)\n",
    "my_list = [random.randint(1,10000) for i in range(1000)]\n",
    "my_list.sort()\n",
    "find = 9626\n",
    "search_func_1(my_list,find)\n"
   ]
  },
  {
   "cell_type": "markdown",
   "metadata": {},
   "source": [
    "# load script 02 \n"
   ]
  },
  {
   "cell_type": "code",
   "execution_count": 2,
   "metadata": {},
   "outputs": [
    {
     "data": {
      "text/plain": [
       "953"
      ]
     },
     "execution_count": 2,
     "metadata": {},
     "output_type": "execute_result"
    }
   ],
   "source": [
    "import random\n",
    "def search_func_2(list_to_search,find_this_value):\n",
    "    '''\n",
    "    Search Function 2\n",
    "\n",
    "    Aim: Scan through a list and see if the requested value is located within it.\n",
    "\n",
    "    Input:\n",
    "        - list_to_search: a list of values to search.\n",
    "        - find_this_value: an integer value to located within the list.\n",
    "\n",
    "    Return:\n",
    "        The index location of the requested value in the list or -1 if\n",
    "        the value is not located in the list\n",
    "    '''\n",
    "    for i in range(len(list_to_search)):\n",
    "        if list_to_search[i] == find_this_value:\n",
    "            return i\n",
    "    return -1\n",
    "\n",
    "# Code to Run\n",
    "random.seed(1234)\n",
    "my_list = [random.randint(1,10000) for i in range(1000)]\n",
    "my_list.sort()\n",
    "find = 9626\n",
    "search_func_2(my_list,find)\n"
   ]
  },
  {
   "cell_type": "code",
   "execution_count": 7,
   "metadata": {},
   "outputs": [
    {
     "name": "stdout",
     "output_type": "stream",
     "text": [
      "27 ns ± 0.488 ns per loop (mean ± std. dev. of 7 runs, 10000000 loops each)\n"
     ]
    }
   ],
   "source": [
    "%timeit search_func_1"
   ]
  },
  {
   "cell_type": "code",
   "execution_count": 8,
   "metadata": {},
   "outputs": [
    {
     "name": "stdout",
     "output_type": "stream",
     "text": [
      "22.8 ns ± 0.415 ns per loop (mean ± std. dev. of 7 runs, 10000000 loops each)\n"
     ]
    }
   ],
   "source": [
    "%timeit search_func_2\n"
   ]
  },
  {
   "cell_type": "markdown",
   "metadata": {},
   "source": [
    "**Conclusion**"
   ]
  },
  {
   "cell_type": "markdown",
   "metadata": {},
   "source": [
    "Based on the run time of both funciton, search_func_1 seems to run slightly faster than search_fun_2"
   ]
  },
  {
   "cell_type": "code",
   "execution_count": null,
   "metadata": {},
   "outputs": [],
   "source": []
  },
  {
   "cell_type": "code",
   "execution_count": null,
   "metadata": {},
   "outputs": [],
   "source": []
  }
 ],
 "metadata": {
  "kernelspec": {
   "display_name": "Python 3",
   "language": "python",
   "name": "python3"
  },
  "language_info": {
   "codemirror_mode": {
    "name": "ipython",
    "version": 3
   },
   "file_extension": ".py",
   "mimetype": "text/x-python",
   "name": "python",
   "nbconvert_exporter": "python",
   "pygments_lexer": "ipython3",
   "version": "3.7.0"
  }
 },
 "nbformat": 4,
 "nbformat_minor": 2
}
