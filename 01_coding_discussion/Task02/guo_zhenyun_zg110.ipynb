{
 "cells": [
  {
   "cell_type": "code",
   "execution_count": 1,
   "metadata": {},
   "outputs": [
    {
     "data": {
      "text/plain": [
       "953"
      ]
     },
     "execution_count": 1,
     "metadata": {},
     "output_type": "execute_result"
    }
   ],
   "source": [
    "import math\n",
    "import random\n",
    "\n",
    "def search_func_1(list_to_search,find_this_value):\n",
    "    '''\n",
    "    Search Function 1\n",
    "\n",
    "    Aim: Scan through a list and see if the requested value is located within it.\n",
    "\n",
    "    Input:\n",
    "        - list_to_search: a list of values to search.\n",
    "        - find_this_value: an integer value to located within the list.\n",
    "\n",
    "    Return:\n",
    "        The index location of the requested value in the list or -1 if\n",
    "        the value is not located in the list\n",
    "    '''\n",
    "    def search(a,low,high,x):\n",
    "        if high < low:\n",
    "            return -1\n",
    "        mid = math.floor(low + ((high-low)/2))\n",
    "        if x == a[mid]:\n",
    "            return mid\n",
    "        elif x < a[mid]:\n",
    "            return search(a,low,mid - 1,x)\n",
    "        else:\n",
    "            return search(a,mid + 1, high, x)\n",
    "    return search(list_to_search,0,len(list_to_search)-1,find_this_value)\n",
    "\n",
    "\n",
    "# Code to run\n",
    "random.seed(1234)\n",
    "my_list = [random.randint(1,10000) for i in range(1000)]\n",
    "my_list.sort()\n",
    "find = 9626\n",
    "search_func_1(my_list,find)"
   ]
  },
  {
   "cell_type": "code",
   "execution_count": 24,
   "metadata": {},
   "outputs": [
    {
     "data": {
      "text/plain": [
       "953"
      ]
     },
     "execution_count": 24,
     "metadata": {},
     "output_type": "execute_result"
    }
   ],
   "source": [
    "import random\n",
    "def search_func_2(list_to_search,find_this_value):\n",
    "    '''\n",
    "    Search Function 2\n",
    "\n",
    "    Aim: Scan through a list and see if the requested value is located within it.\n",
    "\n",
    "    Input:\n",
    "        - list_to_search: a list of values to search.\n",
    "        - find_this_value: an integer value to located within the list.\n",
    "\n",
    "    Return:\n",
    "        The index location of the requested value in the list or -1 if\n",
    "        the value is not located in the list\n",
    "    '''\n",
    "    for i in range(len(list_to_search)):\n",
    "        if list_to_search[i] == find_this_value:\n",
    "            return i\n",
    "    return -1\n",
    "\n",
    "# Code to Run\n",
    "random.seed(1234)\n",
    "my_list = [random.randint(1,10000) for i in range(1000)]\n",
    "my_list.sort()\n",
    "find = 9626\n",
    "search_func_2(my_list,find)"
   ]
  },
  {
   "cell_type": "code",
   "execution_count": 25,
   "metadata": {},
   "outputs": [
    {
     "name": "stdout",
     "output_type": "stream",
     "text": [
      "CPU times: user 2 µs, sys: 0 ns, total: 2 µs\n",
      "Wall time: 5.96 µs\n"
     ]
    },
    {
     "data": {
      "text/plain": [
       "953"
      ]
     },
     "execution_count": 25,
     "metadata": {},
     "output_type": "execute_result"
    }
   ],
   "source": [
    "#Time first function\n",
    "%time\n",
    "search_func_1(my_list,find)"
   ]
  },
  {
   "cell_type": "code",
   "execution_count": 26,
   "metadata": {},
   "outputs": [
    {
     "name": "stdout",
     "output_type": "stream",
     "text": [
      "CPU times: user 7 µs, sys: 2 µs, total: 9 µs\n",
      "Wall time: 16.9 µs\n"
     ]
    },
    {
     "data": {
      "text/plain": [
       "953"
      ]
     },
     "execution_count": 26,
     "metadata": {},
     "output_type": "execute_result"
    }
   ],
   "source": [
    "#Time second function\n",
    "%time \n",
    "search_func_2(my_list,find)"
   ]
  },
  {
   "cell_type": "markdown",
   "metadata": {},
   "source": [
    "Based on my results, the first function runs faster than the second function."
   ]
  }
 ],
 "metadata": {
  "kernelspec": {
   "display_name": "Python 3",
   "language": "python",
   "name": "python3"
  },
  "language_info": {
   "codemirror_mode": {
    "name": "ipython",
    "version": 3
   },
   "file_extension": ".py",
   "mimetype": "text/x-python",
   "name": "python",
   "nbconvert_exporter": "python",
   "pygments_lexer": "ipython3",
   "version": "3.7.1"
  }
 },
 "nbformat": 4,
 "nbformat_minor": 2
}
