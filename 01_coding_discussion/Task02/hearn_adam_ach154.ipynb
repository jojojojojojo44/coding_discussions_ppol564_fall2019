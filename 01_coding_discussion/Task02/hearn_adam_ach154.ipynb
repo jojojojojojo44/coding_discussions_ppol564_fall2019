{
 "cells": [
  {
   "cell_type": "markdown",
   "metadata": {},
   "source": [
    "# Adam Hearn: PPOL564 Coding Discussion 1\n",
    "# Task02"
   ]
  },
  {
   "cell_type": "markdown",
   "metadata": {},
   "source": [
    "### List files in directory to view scripts:"
   ]
  },
  {
   "cell_type": "code",
   "execution_count": 14,
   "metadata": {},
   "outputs": [
    {
     "name": "stdout",
     "output_type": "stream",
     "text": [
      "Joy_Marissa_mj772.ipynb  script01.py\r\n",
      "hearn_adam_ach154.ipynb  script02.py\r\n"
     ]
    }
   ],
   "source": [
    "%ls"
   ]
  },
  {
   "cell_type": "markdown",
   "metadata": {},
   "source": [
    "### Load first script into Jupyter Notebook:"
   ]
  },
  {
   "cell_type": "code",
   "execution_count": null,
   "metadata": {},
   "outputs": [],
   "source": [
    "# %load script01.py\n",
    "import math\n",
    "import random\n",
    "\n",
    "def search_func_1(list_to_search,find_this_value):\n",
    "    '''\n",
    "    Search Function 1\n",
    "\n",
    "    Aim: Scan through a list and see if the requested value is located within it.\n",
    "\n",
    "    Input:\n",
    "        - list_to_search: a list of values to search.\n",
    "        - find_this_value: an integer value to located within the list.\n",
    "\n",
    "    Return:\n",
    "        The index location of the requested value in the list or -1 if\n",
    "        the value is not located in the list\n",
    "    '''\n",
    "    def search(a,low,high,x):\n",
    "        if high < low:\n",
    "            return -1\n",
    "        mid = math.floor(low + ((high-low)/2))\n",
    "        if x == a[mid]:\n",
    "            return mid\n",
    "        elif x < a[mid]:\n",
    "            return search(a,low,mid - 1,x)\n",
    "        else:\n",
    "            return search(a,mid + 1, high, x)\n",
    "    return search(list_to_search,0,len(list_to_search)-1,find_this_value)\n",
    "\n",
    "\n",
    "# Code to run\n",
    "random.seed(1234)\n",
    "my_list = [random.randint(1,10000) for i in range(1000)]\n",
    "my_list.sort()\n",
    "find = 9626\n",
    "search_func_1(my_list,find)\n"
   ]
  },
  {
   "cell_type": "markdown",
   "metadata": {},
   "source": [
    "### Timing script01:"
   ]
  },
  {
   "cell_type": "code",
   "execution_count": 9,
   "metadata": {},
   "outputs": [
    {
     "name": "stdout",
     "output_type": "stream",
     "text": [
      "CPU times: user 3 µs, sys: 0 ns, total: 3 µs\n",
      "Wall time: 8.11 µs\n"
     ]
    }
   ],
   "source": [
    "%time\n",
    "%run script01.py"
   ]
  },
  {
   "cell_type": "markdown",
   "metadata": {},
   "source": [
    "### Load second script into Jupyter Notebook:"
   ]
  },
  {
   "cell_type": "code",
   "execution_count": null,
   "metadata": {},
   "outputs": [],
   "source": [
    "# %load script02.py\n",
    "import random\n",
    "def search_func_2(list_to_search,find_this_value):\n",
    "    '''\n",
    "    Search Function 2\n",
    "\n",
    "    Aim: Scan through a list and see if the requested value is located within it.\n",
    "\n",
    "    Input:\n",
    "        - list_to_search: a list of values to search.\n",
    "        - find_this_value: an integer value to located within the list.\n",
    "\n",
    "    Return:\n",
    "        The index location of the requested value in the list or -1 if\n",
    "        the value is not located in the list\n",
    "    '''\n",
    "    for i in range(len(list_to_search)):\n",
    "        if list_to_search[i] == find_this_value:\n",
    "            return i\n",
    "    return -1\n",
    "\n",
    "# Code to Run\n",
    "random.seed(1234)\n",
    "my_list = [random.randint(1,10000) for i in range(1000)]\n",
    "my_list.sort()\n",
    "find = 9626\n",
    "search_func_2(my_list,find)\n"
   ]
  },
  {
   "cell_type": "markdown",
   "metadata": {},
   "source": [
    "### Timing script02:"
   ]
  },
  {
   "cell_type": "code",
   "execution_count": 10,
   "metadata": {},
   "outputs": [
    {
     "name": "stdout",
     "output_type": "stream",
     "text": [
      "CPU times: user 3 µs, sys: 0 ns, total: 3 µs\n",
      "Wall time: 7.87 µs\n"
     ]
    }
   ],
   "source": [
    "%time\n",
    "%run script02.py"
   ]
  },
  {
   "cell_type": "markdown",
   "metadata": {},
   "source": [
    "### Summary"
   ]
  },
  {
   "cell_type": "markdown",
   "metadata": {},
   "source": [
    "The file script02.py appears to run faster."
   ]
  }
 ],
 "metadata": {
  "kernelspec": {
   "display_name": "Python 3",
   "language": "python",
   "name": "python3"
  },
  "language_info": {
   "codemirror_mode": {
    "name": "ipython",
    "version": 3
   },
   "file_extension": ".py",
   "mimetype": "text/x-python",
   "name": "python",
   "nbconvert_exporter": "python",
   "pygments_lexer": "ipython3",
   "version": "3.7.0"
  }
 },
 "nbformat": 4,
 "nbformat_minor": 2
}
